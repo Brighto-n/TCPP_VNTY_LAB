{
 "cells": [
  {
   "cell_type": "markdown",
   "metadata": {},
   "source": [
    "13 варіант\n",
    "2\n",
    "5\n",
    "4\n",
    "9\n",
    "11\n",
    "15"
   ]
  },
  {
   "cell_type": "markdown",
   "metadata": {},
   "source": [
    "# 2. Використовуючи компаративний словник знайти для німецької, італійської та англійської мов близькі слова. Чи можуть отримані результати використовуватися для здійснення перекладу?"
   ]
  },
  {
   "cell_type": "code",
   "execution_count": 2,
   "metadata": {},
   "outputs": [
    {
     "name": "stdout",
     "output_type": "stream",
     "text": [
      "[('ich', 'io', 'I'), ('du, Sie', 'tu, Lei', 'you (singular), thou'), ('er', 'lui, egli', 'he'), ('wir', 'noi', 'we'), ('ihr, Sie', 'voi', 'you (plural)'), ('sie', 'loro, essi', 'they'), ('dieses', 'questo', 'this'), ('jenes', 'quello', 'that'), ('hier', 'qui, qua', 'here'), ('dort', 'là', 'there'), ('wer', 'chi', 'who'), ('was', 'che', 'what'), ('wo', 'dove', 'where'), ('wann', 'quando', 'when'), ('wie', 'come', 'how'), ('nicht', 'non', 'not'), ('alle', 'tutto', 'all'), ('viele', 'molti', 'many'), ('einige', 'alcuni', 'some'), ('wenige', 'pochi', 'few')]\n"
     ]
    }
   ],
   "source": [
    "import nltk # Імпорт бібліотек\n",
    "from nltk.corpus import swadesh # виклик словників\n",
    "similar = swadesh.entries(['de', 'it', 'en']) # викликаємо словникі ДІ ІТ ЕН\n",
    "print(similar[0:20]) # виклик 20 елементів перекладу на 3 мовах"
   ]
  },
  {
   "cell_type": "markdown",
   "metadata": {},
   "source": [
    "# 5. Який відсоток синсетів іменників не мають гіпонімів? До всіх синсетів можна доступитися за допомогою wn.all_synsets('n'). "
   ]
  },
  {
   "cell_type": "code",
   "execution_count": 3,
   "metadata": {},
   "outputs": [
    {
     "name": "stdout",
     "output_type": "stream",
     "text": [
      "82115\n",
      "65422\n",
      "79.67119283931072\n"
     ]
    }
   ],
   "source": [
    "from __future__ import division # виклик псевдофункії ділення\n",
    "from nltk.corpus import wordnet as wn # імпорт словника англійської мови\n",
    "s = 0 # приймає 0\n",
    "h = 0 # приймає 0\n",
    "for w in wn.all_synsets('n'): # цикл пошуку іменників(ДОСтуп до синетиків)\n",
    "    s = s + 1 # приймає +1\n",
    "    if len(w.hyponyms()) == 0: # якщо довжина 0\n",
    "        h = h + 1 # приймає +1\n",
    "print(s) # друк\n",
    "print(h) # друк\n",
    "result = (h * 100) / s # результат \n",
    "print(result)"
   ]
  },
  {
   "cell_type": "markdown",
   "metadata": {},
   "source": [
    "# 4. Здійснити аналіз словника вимов. Знайти скільки різних слів він містить. Який відсоток слів з цього словника можуть мати різну вимову? "
   ]
  },
  {
   "cell_type": "code",
   "execution_count": 5,
   "metadata": {},
   "outputs": [
    {
     "data": {
      "text/plain": [
       "[('a', ['AH0']),\n",
       " ('a.', ['EY1']),\n",
       " ('a', ['EY1']),\n",
       " ('a42128',\n",
       "  ['EY1',\n",
       "   'F',\n",
       "   'AO1',\n",
       "   'R',\n",
       "   'T',\n",
       "   'UW1',\n",
       "   'W',\n",
       "   'AH1',\n",
       "   'N',\n",
       "   'T',\n",
       "   'UW1',\n",
       "   'EY1',\n",
       "   'T']),\n",
       " ('aaa', ['T', 'R', 'IH2', 'P', 'AH0', 'L', 'EY1']),\n",
       " ('aaberg', ['AA1', 'B', 'ER0', 'G']),\n",
       " ('aachen', ['AA1', 'K', 'AH0', 'N']),\n",
       " ('aachener', ['AA1', 'K', 'AH0', 'N', 'ER0']),\n",
       " ('aaker', ['AA1', 'K', 'ER0']),\n",
       " ('aalseth', ['AA1', 'L', 'S', 'EH0', 'TH'])]"
      ]
     },
     "execution_count": 5,
     "metadata": {},
     "output_type": "execute_result"
    }
   ],
   "source": [
    "from nltk.corpus import cmudict # імпорт словника вимов\n",
    "entries = cmudict.entries() # розподіл \n",
    "entries[:10]"
   ]
  },
  {
   "cell_type": "code",
   "execution_count": 6,
   "metadata": {},
   "outputs": [],
   "source": [
    "a = [i[0] for i in entries] # розподіл по елементах"
   ]
  },
  {
   "cell_type": "code",
   "execution_count": 22,
   "metadata": {},
   "outputs": [
    {
     "name": "stdout",
     "output_type": "stream",
     "text": [
      "133737\n"
     ]
    }
   ],
   "source": [
    "b = len(entries) # довжина\n",
    "print(b)"
   ]
  },
  {
   "cell_type": "code",
   "execution_count": 23,
   "metadata": {},
   "outputs": [
    {
     "name": "stdout",
     "output_type": "stream",
     "text": [
      "123455\n"
     ]
    }
   ],
   "source": [
    "q = len(set(a)) # довжина унікальна\n",
    "print(q)"
   ]
  },
  {
   "cell_type": "code",
   "execution_count": 33,
   "metadata": {},
   "outputs": [],
   "source": [
    "d = (1 - q/ b) * 100 # розподіл"
   ]
  },
  {
   "cell_type": "code",
   "execution_count": 34,
   "metadata": {},
   "outputs": [
    {
     "name": "stdout",
     "output_type": "stream",
     "text": [
      "7.688223902136282\n"
     ]
    }
   ],
   "source": [
    "print(d)"
   ]
  },
  {
   "cell_type": "markdown",
   "metadata": {},
   "source": [
    "# 9. Модифікувати програму генерації випадкового тексту для виконання наступного: тренування програми на текстах двох різних жанрів та генерації тексту об’єднаного жанру"
   ]
  },
  {
   "cell_type": "code",
   "execution_count": 90,
   "metadata": {},
   "outputs": [],
   "source": [
    "import nltk # імпорт бібліотеки\n",
    "from nltk.book import * # імпорт текстів\n",
    "from nltk.corpus import wordnet as wn # імпорт словника\n",
    "def generate_model(cfdistm, word, num = 15): # функція \n",
    "    for i in range(num): # цикл \n",
    "        print(word, word = cfdist[word].max())    # пошук максимального обєму  "
   ]
  },
  {
   "cell_type": "code",
   "execution_count": 85,
   "metadata": {},
   "outputs": [],
   "source": [
    "text = nltk.corpus.brown.words(categories = 'hobbies') # вивід тексту по категорії хоббі\n",
    "bigrams1 = nltk.bigrams(text1) # вивід біграма тексту 1\n",
    "cfd = nltk.ConditionalFreqDist(bigrams1) # вивід статистичних досліджень"
   ]
  },
  {
   "cell_type": "code",
   "execution_count": 86,
   "metadata": {},
   "outputs": [
    {
     "data": {
      "text/plain": [
       "FreqDist({',': 5, 'for': 3, 'of': 3, ';': 2, 'to': 1, 'once': 1, 'the': 1, 'about': 1, 'Steelkilt': 1, 'brandy': 1, ...})"
      ]
     },
     "execution_count": 86,
     "metadata": {},
     "output_type": "execute_result"
    }
   ],
   "source": [
    "cfd['love'] # обєднання по слову"
   ]
  },
  {
   "cell_type": "markdown",
   "metadata": {},
   "source": [
    "#  3.11 Полісемія - це явище коли одне слово має декілька значень ( іменник dog має 7 значень, кількість яких визначити можна як len(wn.synsets('dog', 'n'))). Знайдіть середнє значення полісемії для прикметників"
   ]
  },
  {
   "cell_type": "code",
   "execution_count": 26,
   "metadata": {},
   "outputs": [
    {
     "name": "stdout",
     "output_type": "stream",
     "text": [
      "82115\n",
      "119034\n"
     ]
    }
   ],
   "source": [
    "import nltk # імпорт бібліотек\n",
    "from nltk.corpus import wordnet as wn # імпорт словніка\n",
    "\n",
    "poly_nouns = list(wn.all_synsets('n')) # вивід  іменніків\n",
    "poly_adjectives = list(wn.all_synsets('a')) # Вивід  прикметників\n",
    "poly_verbs = list(wn.all_synsets('v')) # вивід дієслів\n",
    "\n",
    "\n",
    "def calc_words(synset): # функція підрахунку \n",
    "\tall_words = []\n",
    "\tfor syn in synset:\n",
    "\t\tall_words += syn.lemma_names()\n",
    "\t# eliminates duplicates and gets the count\n",
    "\ttotal = len(set(all_words))\n",
    "\treturn total\n",
    "\n",
    "def total_senses(synset): # функція підрахунку\n",
    "\tsenses = sum(1 for x in synset)\n",
    "\treturn senses\n",
    "\n",
    "\n",
    "def average_polysemy(synset): # функція калькулятор порівнянь\n",
    "\taverage = total_senses(synset) / calc_words(synset)\n",
    "\treturn average\n",
    "\n",
    "\n",
    "print(total_senses(poly_nouns))\n",
    "print(calc_words(poly_nouns))"
   ]
  },
  {
   "cell_type": "code",
   "execution_count": 23,
   "metadata": {},
   "outputs": [],
   "source": [
    "#nouns = 'n': 1.852...\n",
    "# verbs = 'v': 5.098...\n",
    "# adverbs = 'r': 1.698...\n",
    "# adjectives = 'a': 2.233..."
   ]
  },
  {
   "cell_type": "markdown",
   "metadata": {},
   "source": [
    "# 3. 15 Використовуючи один з методів визначення подібності слів побудуйте відсортований по спаданню список значень подібності для наступних пар слів: bird-crane, tool-implement, brother-monk, lad-brother, crane-implement, journey-car, monk-oracle, cemetery-woodland.\n"
   ]
  },
  {
   "cell_type": "code",
   "execution_count": 27,
   "metadata": {},
   "outputs": [],
   "source": [
    "import nltk # імпорт бібліотек\n",
    "from nltk.corpus import wordnet as wn # імпорт словника"
   ]
  },
  {
   "cell_type": "code",
   "execution_count": 53,
   "metadata": {},
   "outputs": [
    {
     "data": {
      "text/plain": [
       "1.0"
      ]
     },
     "execution_count": 53,
     "metadata": {},
     "output_type": "execute_result"
    }
   ],
   "source": [
    "cemetery = wn.synset('cemetery.n.01') # визначення подібності по словнику\n",
    "woodland = wn.synset('woodland.n.01') # визначення подібності по словнику \n",
    "woodland.path_similarity(woodland) # порівння"
   ]
  },
  {
   "cell_type": "code",
   "execution_count": 58,
   "metadata": {},
   "outputs": [
    {
     "data": {
      "text/plain": [
       "0.5"
      ]
     },
     "execution_count": 58,
     "metadata": {},
     "output_type": "execute_result"
    }
   ],
   "source": [
    "tool = wn.synset('tool.n.01')\n",
    "implement = wn.synset('implement.n.01')\n",
    "tool.path_similarity(implement)"
   ]
  },
  {
   "cell_type": "code",
   "execution_count": 57,
   "metadata": {},
   "outputs": [
    {
     "data": {
      "text/plain": [
       "0.14285714285714285"
      ]
     },
     "execution_count": 57,
     "metadata": {},
     "output_type": "execute_result"
    }
   ],
   "source": [
    "lad = wn.synset('lad.n.01')\n",
    "brother = wn.synset('brother.n.01')\n",
    "lad.path_similarity(brother)"
   ]
  },
  {
   "cell_type": "code",
   "execution_count": 59,
   "metadata": {},
   "outputs": [
    {
     "data": {
      "text/plain": [
       "0.125"
      ]
     },
     "execution_count": 59,
     "metadata": {},
     "output_type": "execute_result"
    }
   ],
   "source": [
    "brother = wn.synset('brother.n.01')\n",
    "monk = wn.synset('monk.n.01')\n",
    "brother.path_similarity(monk)"
   ]
  },
  {
   "cell_type": "code",
   "execution_count": 54,
   "metadata": {},
   "outputs": [
    {
     "data": {
      "text/plain": [
       "0.125"
      ]
     },
     "execution_count": 54,
     "metadata": {},
     "output_type": "execute_result"
    }
   ],
   "source": [
    "monk = wn.synset('monk.n.01')\n",
    "oracle = wn.synset('oracle.n.01')\n",
    "monk.path_similarity(oracle)"
   ]
  },
  {
   "cell_type": "code",
   "execution_count": 48,
   "metadata": {},
   "outputs": [
    {
     "data": {
      "text/plain": [
       "0.1111111111111111"
      ]
     },
     "execution_count": 48,
     "metadata": {},
     "output_type": "execute_result"
    }
   ],
   "source": [
    "bird = wn.synset('bird.n.01')\n",
    "crane = wn.synset('crane.n.01')\n",
    "bird.path_similarity(crane)"
   ]
  },
  {
   "cell_type": "code",
   "execution_count": 56,
   "metadata": {},
   "outputs": [
    {
     "data": {
      "text/plain": [
       "0.1"
      ]
     },
     "execution_count": 56,
     "metadata": {},
     "output_type": "execute_result"
    }
   ],
   "source": [
    "crane = wn.synset('crane.n.01')\n",
    "implement = wn.synset('implement.n.01')\n",
    "crane.path_similarity(implement)"
   ]
  },
  {
   "cell_type": "code",
   "execution_count": 55,
   "metadata": {},
   "outputs": [
    {
     "data": {
      "text/plain": [
       "0.05"
      ]
     },
     "execution_count": 55,
     "metadata": {},
     "output_type": "execute_result"
    }
   ],
   "source": [
    "car = wn.synset('car.n.01')\n",
    "journey = wn.synset('journey.n.01')\n",
    "car.path_similarity(journey)"
   ]
  },
  {
   "cell_type": "code",
   "execution_count": null,
   "metadata": {},
   "outputs": [],
   "source": []
  }
 ],
 "metadata": {
  "kernelspec": {
   "display_name": "Python 3",
   "language": "python",
   "name": "python3"
  },
  "language_info": {
   "codemirror_mode": {
    "name": "ipython",
    "version": 3
   },
   "file_extension": ".py",
   "mimetype": "text/x-python",
   "name": "python",
   "nbconvert_exporter": "python",
   "pygments_lexer": "ipython3",
   "version": "3.8.5"
  }
 },
 "nbformat": 4,
 "nbformat_minor": 4
}
